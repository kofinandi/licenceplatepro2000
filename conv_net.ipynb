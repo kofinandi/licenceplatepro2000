{
 "cells": [
  {
   "cell_type": "code",
   "execution_count": null,
   "id": "initial_id",
   "metadata": {
    "collapsed": true
   },
   "outputs": [],
   "source": [
    "%pip install tensorflow\n",
    "%pip install opencv-python"
   ]
  },
  {
   "cell_type": "code",
   "execution_count": null,
   "outputs": [],
   "source": [
    "%pip install -U scikit-learn"
   ],
   "metadata": {
    "collapsed": false
   },
   "id": "c217d6929645b870"
  },
  {
   "cell_type": "code",
   "execution_count": 13,
   "outputs": [],
   "source": [
    "import torch.nn as nn\n",
    "import torch.optim as optim\n",
    "from torch.utils.data import DataLoader\n",
    "from tqdm.auto import tqdm\n",
    "\n",
    "img_w, img_h = 40, 204\n",
    "\n",
    "# Define a basic CNN architecture for license plate recognition\n",
    "class LicensePlateCNN(nn.Module):\n",
    "    def __init__(self):\n",
    "        super(LicensePlateCNN, self).__init__()\n",
    "        self.conv1 = nn.Conv2d(1, 16, kernel_size=3, stride=1, padding=1)\n",
    "        self.bn1 = nn.BatchNorm2d(16)\n",
    "        self.conv2 = nn.Conv2d(16, 32, kernel_size=3, stride=1, padding=1)\n",
    "        self.bn2 = nn.BatchNorm2d(32)\n",
    "        self.pool = nn.MaxPool2d(kernel_size=2, stride=2, padding=0)\n",
    "\n",
    "        self.fc1 = nn.Linear(32 * (img_w // 4) * (img_h // 4), 512)\n",
    "        self.dropout = nn.Dropout(0.5)  # Adjust dropout rate as needed\n",
    "        self.fc2 = nn.Linear(512, 10 * (26 + 10 + 1))\n",
    "\n",
    "    def forward(self, x):\n",
    "        x = self.pool(torch.relu(self.bn1(self.conv1(x))))\n",
    "        x = self.pool(torch.relu(self.bn2(self.conv2(x))))\n",
    "        x = x.view(-1, 32 * (img_w // 4) * (img_h // 4))\n",
    "        x = torch.relu(self.fc1(x))\n",
    "        x = self.dropout(x)\n",
    "        x = self.fc2(x)\n",
    "        return x\n",
    "\n",
    "# Function to move data to the specified device\n",
    "def to_device(data, device):\n",
    "    if isinstance(data, (list, tuple)):\n",
    "        return [to_device(x, device) for x in data]\n",
    "    return data.to(device, non_blocking=True)\n",
    "\n",
    "losses = []\n",
    "\n",
    "# Define a function to train the model\n",
    "def train_model(model, train_loader, test_loader, criterion, optimizer, num_epochs=10, test_interval=10, device='cpu'):\n",
    "    for epoch in tqdm(range(num_epochs)):\n",
    "        for inputs, labels in train_loader:\n",
    "            inputs, labels = to_device(inputs, device), to_device(labels, device)\n",
    "            #print('Label shape', labels.shape)\n",
    "            #print('Input shape', inputs.shape)\n",
    "            optimizer.zero_grad()\n",
    "            outputs = model(inputs.to(device))\n",
    "            loss = criterion(outputs, labels)\n",
    "            loss.backward()\n",
    "            optimizer.step()\n",
    "        print(f'Epoch {epoch + 1}/{num_epochs}, Loss: {loss.item()}')\n",
    "        losses.append(loss.item())\n",
    "        \n",
    "        if epoch % test_interval == 0:\n",
    "            test_model(model, train_loader)\n",
    "\n",
    "# Define a function to test the model\n",
    "def test_model(model, test_loader):\n",
    "    model.eval()\n",
    "    correct = 0\n",
    "    total = 0\n",
    "    with torch.no_grad():\n",
    "        for inputs, labels in test_loader:\n",
    "            inputs, labels = to_device(inputs, device), to_device(labels, device)\n",
    "            outputs = model(inputs)\n",
    "            total += labels.size(0)\n",
    "            \n",
    "            for i in range(outputs.size(0)):\n",
    "                pred = outputs[i, :].cpu()\n",
    "                act = labels[i, :].cpu()\n",
    "                pred_label = tensor_to_label(pred, 10)\n",
    "                act_label = tensor_to_label(act, max_length=10)\n",
    "                if pred_label == act_label :\n",
    "                    correct += 1\n",
    "                    #print(pred_label)\n",
    "    accuracy = correct / total\n",
    "    print(f'Test Accuracy: {accuracy * 100:.2f}%')"
   ],
   "metadata": {
    "collapsed": false,
    "ExecuteTime": {
     "end_time": "2023-11-24T16:48:04.601844Z",
     "start_time": "2023-11-24T16:48:04.594847Z"
    }
   },
   "id": "208b431297497f53"
  },
  {
   "cell_type": "code",
   "execution_count": 14,
   "outputs": [
    {
     "name": "stdout",
     "output_type": "stream",
     "text": [
      "abc 123\n"
     ]
    }
   ],
   "source": [
    "import torch\n",
    "\n",
    "letter_list = 'abcdefghijklmnopqrstuvwxyz0123456789'\n",
    "\n",
    "def label_to_tensor(text, max_length = 7):\n",
    "    num_letters = 26\n",
    "    num_numbers = 10\n",
    "    num_empty = 1\n",
    "    \n",
    "    offset =  (num_letters + num_numbers + num_empty)\n",
    "\n",
    "    tensor_size = max_length * offset\n",
    "    tensor = torch.zeros(tensor_size, dtype=torch.float32)\n",
    "\n",
    "    idx = 0\n",
    "    for char in text:\n",
    "        tensor[idx + letter_list.find(char.lower()) + 1] = 1.0\n",
    "        idx += offset\n",
    "\n",
    "    return tensor\n",
    "\n",
    "import torch\n",
    "\n",
    "def tensor_to_label(tensor, max_length = 7):\n",
    "    num_letters = 26\n",
    "    num_numbers = 10\n",
    "    num_empty = 1\n",
    "\n",
    "    char_list = []\n",
    "\n",
    "    for i in range(max_length):\n",
    "        start_idx = i * (num_letters + num_numbers + num_empty)\n",
    "        end_idx = start_idx + (num_letters + num_numbers + num_empty)\n",
    "\n",
    "        section = tensor[start_idx:end_idx] > 0.5\n",
    "\n",
    "        # Find the index of the first element greater than 0.5\n",
    "        index = torch.nonzero(section > 0.5, as_tuple=False)\n",
    "        \n",
    "        if index.numel() > 0:\n",
    "            first_greater_than_0_5 = index[0].item()\n",
    "            if first_greater_than_0_5 > 0.5:\n",
    "                char_list.append(letter_list[first_greater_than_0_5 - 1])\n",
    "            else:\n",
    "                char_list += ' '\n",
    "        else:\n",
    "            char_list += ' '\n",
    "\n",
    "    return ''.join(char_list)\n",
    "\n",
    "# Example usage\n",
    "text = \"abc-123\"\n",
    "tensor_representation = label_to_tensor(text)\n",
    "inverse_result = tensor_to_label(tensor_representation)\n",
    "print(inverse_result)\n"
   ],
   "metadata": {
    "collapsed": false,
    "ExecuteTime": {
     "end_time": "2023-11-24T16:48:08.980225Z",
     "start_time": "2023-11-24T16:48:08.978048Z"
    }
   },
   "id": "223c30cf0bfe655a"
  },
  {
   "cell_type": "code",
   "execution_count": 15,
   "outputs": [],
   "source": [
    "import os\n",
    "from PIL import Image\n",
    "from torch.utils.data import Dataset, DataLoader\n",
    "from torchvision import transforms\n",
    "\n",
    "class CustomDataset(Dataset):\n",
    "    def __init__(self, root, transform=None):\n",
    "        self.root_dir = root\n",
    "        self.transform = transform\n",
    "        self.file_list = [file for file in os.listdir(root) if file.endswith('.png')]\n",
    "\n",
    "    def __len__(self):\n",
    "        return len(self.file_list)\n",
    "\n",
    "    def __getitem__(self, idx):\n",
    "        img_name = os.path.join(self.root_dir, self.file_list[idx])\n",
    "        image = Image.open(img_name).convert('RGB')\n",
    "\n",
    "        if self.transform:\n",
    "            image = self.transform(image)\n",
    "\n",
    "        label = os.path.splitext(self.file_list[idx])[0]  # Get the filename without extension\n",
    "        label = label_to_tensor(label, max_length=10)\n",
    "\n",
    "        return image, label"
   ],
   "metadata": {
    "collapsed": false,
    "ExecuteTime": {
     "end_time": "2023-11-24T16:48:10.581908Z",
     "start_time": "2023-11-24T16:48:10.579439Z"
    }
   },
   "id": "955be036292df179"
  },
  {
   "cell_type": "code",
   "execution_count": 18,
   "outputs": [
    {
     "data": {
      "text/plain": "  0%|          | 0/50 [00:00<?, ?it/s]",
      "application/vnd.jupyter.widget-view+json": {
       "version_major": 2,
       "version_minor": 0,
       "model_id": "4c0110fdb63b4429beb246b5aa3c7c5b"
      }
     },
     "metadata": {},
     "output_type": "display_data"
    },
    {
     "name": "stdout",
     "output_type": "stream",
     "text": [
      "Epoch 1/50, Loss: 38.6589469909668\n",
      "Test Accuracy: 0.00%\n",
      "Epoch 2/50, Loss: 33.666175842285156\n"
     ]
    },
    {
     "ename": "KeyboardInterrupt",
     "evalue": "",
     "output_type": "error",
     "traceback": [
      "\u001B[0;31m---------------------------------------------------------------------------\u001B[0m",
      "\u001B[0;31mKeyboardInterrupt\u001B[0m                         Traceback (most recent call last)",
      "Cell \u001B[0;32mIn[18], line 32\u001B[0m\n\u001B[1;32m     29\u001B[0m optimizer \u001B[38;5;241m=\u001B[39m optim\u001B[38;5;241m.\u001B[39mAdam(model\u001B[38;5;241m.\u001B[39mparameters(), lr\u001B[38;5;241m=\u001B[39m\u001B[38;5;241m0.001\u001B[39m)\n\u001B[1;32m     31\u001B[0m \u001B[38;5;66;03m# Train the model\u001B[39;00m\n\u001B[0;32m---> 32\u001B[0m \u001B[43mtrain_model\u001B[49m\u001B[43m(\u001B[49m\u001B[43mmodel\u001B[49m\u001B[43m,\u001B[49m\u001B[43m \u001B[49m\u001B[43mtrain_loader\u001B[49m\u001B[43m,\u001B[49m\u001B[43m \u001B[49m\u001B[43mtest_loader\u001B[49m\u001B[43m,\u001B[49m\u001B[43m \u001B[49m\u001B[43mcriterion\u001B[49m\u001B[43m,\u001B[49m\u001B[43m \u001B[49m\u001B[43moptimizer\u001B[49m\u001B[43m,\u001B[49m\u001B[43m \u001B[49m\u001B[43mnum_epochs\u001B[49m\u001B[38;5;241;43m=\u001B[39;49m\u001B[38;5;241;43m50\u001B[39;49m\u001B[43m,\u001B[49m\u001B[43m \u001B[49m\u001B[43mdevice\u001B[49m\u001B[38;5;241;43m=\u001B[39;49m\u001B[43mdevice\u001B[49m\u001B[43m,\u001B[49m\u001B[43m \u001B[49m\u001B[43mtest_interval\u001B[49m\u001B[38;5;241;43m=\u001B[39;49m\u001B[38;5;241;43m10\u001B[39;49m\u001B[43m)\u001B[49m\n",
      "Cell \u001B[0;32mIn[13], line 42\u001B[0m, in \u001B[0;36mtrain_model\u001B[0;34m(model, train_loader, test_loader, criterion, optimizer, num_epochs, test_interval, device)\u001B[0m\n\u001B[1;32m     40\u001B[0m \u001B[38;5;28;01mdef\u001B[39;00m \u001B[38;5;21mtrain_model\u001B[39m(model, train_loader, test_loader, criterion, optimizer, num_epochs\u001B[38;5;241m=\u001B[39m\u001B[38;5;241m10\u001B[39m, test_interval\u001B[38;5;241m=\u001B[39m\u001B[38;5;241m10\u001B[39m, device\u001B[38;5;241m=\u001B[39m\u001B[38;5;124m'\u001B[39m\u001B[38;5;124mcpu\u001B[39m\u001B[38;5;124m'\u001B[39m):\n\u001B[1;32m     41\u001B[0m     \u001B[38;5;28;01mfor\u001B[39;00m epoch \u001B[38;5;129;01min\u001B[39;00m tqdm(\u001B[38;5;28mrange\u001B[39m(num_epochs)):\n\u001B[0;32m---> 42\u001B[0m         \u001B[38;5;28;01mfor\u001B[39;00m inputs, labels \u001B[38;5;129;01min\u001B[39;00m train_loader:\n\u001B[1;32m     43\u001B[0m             inputs, labels \u001B[38;5;241m=\u001B[39m to_device(inputs, device), to_device(labels, device)\n\u001B[1;32m     44\u001B[0m             \u001B[38;5;66;03m#print('Label shape', labels.shape)\u001B[39;00m\n\u001B[1;32m     45\u001B[0m             \u001B[38;5;66;03m#print('Input shape', inputs.shape)\u001B[39;00m\n",
      "File \u001B[0;32m~/Documents/Egyetem/7.Felev/Képfeldolgozás/licenseplate/licenceplatepro2000/venv/lib/python3.9/site-packages/torch/utils/data/dataloader.py:630\u001B[0m, in \u001B[0;36m_BaseDataLoaderIter.__next__\u001B[0;34m(self)\u001B[0m\n\u001B[1;32m    627\u001B[0m \u001B[38;5;28;01mif\u001B[39;00m \u001B[38;5;28mself\u001B[39m\u001B[38;5;241m.\u001B[39m_sampler_iter \u001B[38;5;129;01mis\u001B[39;00m \u001B[38;5;28;01mNone\u001B[39;00m:\n\u001B[1;32m    628\u001B[0m     \u001B[38;5;66;03m# TODO(https://github.com/pytorch/pytorch/issues/76750)\u001B[39;00m\n\u001B[1;32m    629\u001B[0m     \u001B[38;5;28mself\u001B[39m\u001B[38;5;241m.\u001B[39m_reset()  \u001B[38;5;66;03m# type: ignore[call-arg]\u001B[39;00m\n\u001B[0;32m--> 630\u001B[0m data \u001B[38;5;241m=\u001B[39m \u001B[38;5;28;43mself\u001B[39;49m\u001B[38;5;241;43m.\u001B[39;49m\u001B[43m_next_data\u001B[49m\u001B[43m(\u001B[49m\u001B[43m)\u001B[49m\n\u001B[1;32m    631\u001B[0m \u001B[38;5;28mself\u001B[39m\u001B[38;5;241m.\u001B[39m_num_yielded \u001B[38;5;241m+\u001B[39m\u001B[38;5;241m=\u001B[39m \u001B[38;5;241m1\u001B[39m\n\u001B[1;32m    632\u001B[0m \u001B[38;5;28;01mif\u001B[39;00m \u001B[38;5;28mself\u001B[39m\u001B[38;5;241m.\u001B[39m_dataset_kind \u001B[38;5;241m==\u001B[39m _DatasetKind\u001B[38;5;241m.\u001B[39mIterable \u001B[38;5;129;01mand\u001B[39;00m \\\n\u001B[1;32m    633\u001B[0m         \u001B[38;5;28mself\u001B[39m\u001B[38;5;241m.\u001B[39m_IterableDataset_len_called \u001B[38;5;129;01mis\u001B[39;00m \u001B[38;5;129;01mnot\u001B[39;00m \u001B[38;5;28;01mNone\u001B[39;00m \u001B[38;5;129;01mand\u001B[39;00m \\\n\u001B[1;32m    634\u001B[0m         \u001B[38;5;28mself\u001B[39m\u001B[38;5;241m.\u001B[39m_num_yielded \u001B[38;5;241m>\u001B[39m \u001B[38;5;28mself\u001B[39m\u001B[38;5;241m.\u001B[39m_IterableDataset_len_called:\n",
      "File \u001B[0;32m~/Documents/Egyetem/7.Felev/Képfeldolgozás/licenseplate/licenceplatepro2000/venv/lib/python3.9/site-packages/torch/utils/data/dataloader.py:674\u001B[0m, in \u001B[0;36m_SingleProcessDataLoaderIter._next_data\u001B[0;34m(self)\u001B[0m\n\u001B[1;32m    672\u001B[0m \u001B[38;5;28;01mdef\u001B[39;00m \u001B[38;5;21m_next_data\u001B[39m(\u001B[38;5;28mself\u001B[39m):\n\u001B[1;32m    673\u001B[0m     index \u001B[38;5;241m=\u001B[39m \u001B[38;5;28mself\u001B[39m\u001B[38;5;241m.\u001B[39m_next_index()  \u001B[38;5;66;03m# may raise StopIteration\u001B[39;00m\n\u001B[0;32m--> 674\u001B[0m     data \u001B[38;5;241m=\u001B[39m \u001B[38;5;28;43mself\u001B[39;49m\u001B[38;5;241;43m.\u001B[39;49m\u001B[43m_dataset_fetcher\u001B[49m\u001B[38;5;241;43m.\u001B[39;49m\u001B[43mfetch\u001B[49m\u001B[43m(\u001B[49m\u001B[43mindex\u001B[49m\u001B[43m)\u001B[49m  \u001B[38;5;66;03m# may raise StopIteration\u001B[39;00m\n\u001B[1;32m    675\u001B[0m     \u001B[38;5;28;01mif\u001B[39;00m \u001B[38;5;28mself\u001B[39m\u001B[38;5;241m.\u001B[39m_pin_memory:\n\u001B[1;32m    676\u001B[0m         data \u001B[38;5;241m=\u001B[39m _utils\u001B[38;5;241m.\u001B[39mpin_memory\u001B[38;5;241m.\u001B[39mpin_memory(data, \u001B[38;5;28mself\u001B[39m\u001B[38;5;241m.\u001B[39m_pin_memory_device)\n",
      "File \u001B[0;32m~/Documents/Egyetem/7.Felev/Képfeldolgozás/licenseplate/licenceplatepro2000/venv/lib/python3.9/site-packages/torch/utils/data/_utils/fetch.py:49\u001B[0m, in \u001B[0;36m_MapDatasetFetcher.fetch\u001B[0;34m(self, possibly_batched_index)\u001B[0m\n\u001B[1;32m     47\u001B[0m \u001B[38;5;28;01mif\u001B[39;00m \u001B[38;5;28mself\u001B[39m\u001B[38;5;241m.\u001B[39mauto_collation:\n\u001B[1;32m     48\u001B[0m     \u001B[38;5;28;01mif\u001B[39;00m \u001B[38;5;28mhasattr\u001B[39m(\u001B[38;5;28mself\u001B[39m\u001B[38;5;241m.\u001B[39mdataset, \u001B[38;5;124m\"\u001B[39m\u001B[38;5;124m__getitems__\u001B[39m\u001B[38;5;124m\"\u001B[39m) \u001B[38;5;129;01mand\u001B[39;00m \u001B[38;5;28mself\u001B[39m\u001B[38;5;241m.\u001B[39mdataset\u001B[38;5;241m.\u001B[39m__getitems__:\n\u001B[0;32m---> 49\u001B[0m         data \u001B[38;5;241m=\u001B[39m \u001B[38;5;28;43mself\u001B[39;49m\u001B[38;5;241;43m.\u001B[39;49m\u001B[43mdataset\u001B[49m\u001B[38;5;241;43m.\u001B[39;49m\u001B[43m__getitems__\u001B[49m\u001B[43m(\u001B[49m\u001B[43mpossibly_batched_index\u001B[49m\u001B[43m)\u001B[49m\n\u001B[1;32m     50\u001B[0m     \u001B[38;5;28;01melse\u001B[39;00m:\n\u001B[1;32m     51\u001B[0m         data \u001B[38;5;241m=\u001B[39m [\u001B[38;5;28mself\u001B[39m\u001B[38;5;241m.\u001B[39mdataset[idx] \u001B[38;5;28;01mfor\u001B[39;00m idx \u001B[38;5;129;01min\u001B[39;00m possibly_batched_index]\n",
      "File \u001B[0;32m~/Documents/Egyetem/7.Felev/Képfeldolgozás/licenseplate/licenceplatepro2000/venv/lib/python3.9/site-packages/torch/utils/data/dataset.py:364\u001B[0m, in \u001B[0;36mSubset.__getitems__\u001B[0;34m(self, indices)\u001B[0m\n\u001B[1;32m    362\u001B[0m     \u001B[38;5;28;01mreturn\u001B[39;00m \u001B[38;5;28mself\u001B[39m\u001B[38;5;241m.\u001B[39mdataset\u001B[38;5;241m.\u001B[39m__getitems__([\u001B[38;5;28mself\u001B[39m\u001B[38;5;241m.\u001B[39mindices[idx] \u001B[38;5;28;01mfor\u001B[39;00m idx \u001B[38;5;129;01min\u001B[39;00m indices])  \u001B[38;5;66;03m# type: ignore[attr-defined]\u001B[39;00m\n\u001B[1;32m    363\u001B[0m \u001B[38;5;28;01melse\u001B[39;00m:\n\u001B[0;32m--> 364\u001B[0m     \u001B[38;5;28;01mreturn\u001B[39;00m [\u001B[38;5;28mself\u001B[39m\u001B[38;5;241m.\u001B[39mdataset[\u001B[38;5;28mself\u001B[39m\u001B[38;5;241m.\u001B[39mindices[idx]] \u001B[38;5;28;01mfor\u001B[39;00m idx \u001B[38;5;129;01min\u001B[39;00m indices]\n",
      "File \u001B[0;32m~/Documents/Egyetem/7.Felev/Képfeldolgozás/licenseplate/licenceplatepro2000/venv/lib/python3.9/site-packages/torch/utils/data/dataset.py:364\u001B[0m, in \u001B[0;36m<listcomp>\u001B[0;34m(.0)\u001B[0m\n\u001B[1;32m    362\u001B[0m     \u001B[38;5;28;01mreturn\u001B[39;00m \u001B[38;5;28mself\u001B[39m\u001B[38;5;241m.\u001B[39mdataset\u001B[38;5;241m.\u001B[39m__getitems__([\u001B[38;5;28mself\u001B[39m\u001B[38;5;241m.\u001B[39mindices[idx] \u001B[38;5;28;01mfor\u001B[39;00m idx \u001B[38;5;129;01min\u001B[39;00m indices])  \u001B[38;5;66;03m# type: ignore[attr-defined]\u001B[39;00m\n\u001B[1;32m    363\u001B[0m \u001B[38;5;28;01melse\u001B[39;00m:\n\u001B[0;32m--> 364\u001B[0m     \u001B[38;5;28;01mreturn\u001B[39;00m [\u001B[38;5;28;43mself\u001B[39;49m\u001B[38;5;241;43m.\u001B[39;49m\u001B[43mdataset\u001B[49m\u001B[43m[\u001B[49m\u001B[38;5;28;43mself\u001B[39;49m\u001B[38;5;241;43m.\u001B[39;49m\u001B[43mindices\u001B[49m\u001B[43m[\u001B[49m\u001B[43midx\u001B[49m\u001B[43m]\u001B[49m\u001B[43m]\u001B[49m \u001B[38;5;28;01mfor\u001B[39;00m idx \u001B[38;5;129;01min\u001B[39;00m indices]\n",
      "Cell \u001B[0;32mIn[15], line 20\u001B[0m, in \u001B[0;36mCustomDataset.__getitem__\u001B[0;34m(self, idx)\u001B[0m\n\u001B[1;32m     17\u001B[0m image \u001B[38;5;241m=\u001B[39m Image\u001B[38;5;241m.\u001B[39mopen(img_name)\u001B[38;5;241m.\u001B[39mconvert(\u001B[38;5;124m'\u001B[39m\u001B[38;5;124mRGB\u001B[39m\u001B[38;5;124m'\u001B[39m)\n\u001B[1;32m     19\u001B[0m \u001B[38;5;28;01mif\u001B[39;00m \u001B[38;5;28mself\u001B[39m\u001B[38;5;241m.\u001B[39mtransform:\n\u001B[0;32m---> 20\u001B[0m     image \u001B[38;5;241m=\u001B[39m \u001B[38;5;28;43mself\u001B[39;49m\u001B[38;5;241;43m.\u001B[39;49m\u001B[43mtransform\u001B[49m\u001B[43m(\u001B[49m\u001B[43mimage\u001B[49m\u001B[43m)\u001B[49m\n\u001B[1;32m     22\u001B[0m label \u001B[38;5;241m=\u001B[39m os\u001B[38;5;241m.\u001B[39mpath\u001B[38;5;241m.\u001B[39msplitext(\u001B[38;5;28mself\u001B[39m\u001B[38;5;241m.\u001B[39mfile_list[idx])[\u001B[38;5;241m0\u001B[39m]  \u001B[38;5;66;03m# Get the filename without extension\u001B[39;00m\n\u001B[1;32m     23\u001B[0m label \u001B[38;5;241m=\u001B[39m label_to_tensor(label, max_length\u001B[38;5;241m=\u001B[39m\u001B[38;5;241m10\u001B[39m)\n",
      "File \u001B[0;32m~/Documents/Egyetem/7.Felev/Képfeldolgozás/licenseplate/licenceplatepro2000/venv/lib/python3.9/site-packages/torchvision/transforms/transforms.py:95\u001B[0m, in \u001B[0;36mCompose.__call__\u001B[0;34m(self, img)\u001B[0m\n\u001B[1;32m     93\u001B[0m \u001B[38;5;28;01mdef\u001B[39;00m \u001B[38;5;21m__call__\u001B[39m(\u001B[38;5;28mself\u001B[39m, img):\n\u001B[1;32m     94\u001B[0m     \u001B[38;5;28;01mfor\u001B[39;00m t \u001B[38;5;129;01min\u001B[39;00m \u001B[38;5;28mself\u001B[39m\u001B[38;5;241m.\u001B[39mtransforms:\n\u001B[0;32m---> 95\u001B[0m         img \u001B[38;5;241m=\u001B[39m \u001B[43mt\u001B[49m\u001B[43m(\u001B[49m\u001B[43mimg\u001B[49m\u001B[43m)\u001B[49m\n\u001B[1;32m     96\u001B[0m     \u001B[38;5;28;01mreturn\u001B[39;00m img\n",
      "File \u001B[0;32m~/Documents/Egyetem/7.Felev/Képfeldolgozás/licenseplate/licenceplatepro2000/venv/lib/python3.9/site-packages/torchvision/transforms/transforms.py:486\u001B[0m, in \u001B[0;36mLambda.__call__\u001B[0;34m(self, img)\u001B[0m\n\u001B[1;32m    485\u001B[0m \u001B[38;5;28;01mdef\u001B[39;00m \u001B[38;5;21m__call__\u001B[39m(\u001B[38;5;28mself\u001B[39m, img):\n\u001B[0;32m--> 486\u001B[0m     \u001B[38;5;28;01mreturn\u001B[39;00m \u001B[38;5;28;43mself\u001B[39;49m\u001B[38;5;241;43m.\u001B[39;49m\u001B[43mlambd\u001B[49m\u001B[43m(\u001B[49m\u001B[43mimg\u001B[49m\u001B[43m)\u001B[49m\n",
      "Cell \u001B[0;32mIn[18], line 14\u001B[0m, in \u001B[0;36m<lambda>\u001B[0;34m(x)\u001B[0m\n\u001B[1;32m      7\u001B[0m to_binary \u001B[38;5;241m=\u001B[39m \u001B[38;5;28;01mlambda\u001B[39;00m x: \u001B[38;5;241m1\u001B[39m \u001B[38;5;28;01mif\u001B[39;00m x \u001B[38;5;241m>\u001B[39m threshold \u001B[38;5;28;01melse\u001B[39;00m \u001B[38;5;241m0\u001B[39m\n\u001B[1;32m      9\u001B[0m \u001B[38;5;66;03m# Define data transformations\u001B[39;00m\n\u001B[1;32m     10\u001B[0m transform \u001B[38;5;241m=\u001B[39m transforms\u001B[38;5;241m.\u001B[39mCompose([\n\u001B[1;32m     11\u001B[0m     transforms\u001B[38;5;241m.\u001B[39mResize((img_w, img_h)),  \u001B[38;5;66;03m# Adjust the size based on your input image size\u001B[39;00m\n\u001B[1;32m     12\u001B[0m     transforms\u001B[38;5;241m.\u001B[39mGrayscale(),\n\u001B[1;32m     13\u001B[0m     transforms\u001B[38;5;241m.\u001B[39mToTensor(),\n\u001B[0;32m---> 14\u001B[0m     transforms\u001B[38;5;241m.\u001B[39mLambda(\u001B[38;5;28;01mlambda\u001B[39;00m x: \u001B[43mx\u001B[49m\u001B[38;5;241;43m.\u001B[39;49m\u001B[43mapply_\u001B[49m\u001B[43m(\u001B[49m\u001B[43mto_binary\u001B[49m\u001B[43m)\u001B[49m)\n\u001B[1;32m     15\u001B[0m ])\n\u001B[1;32m     17\u001B[0m \u001B[38;5;66;03m# Create a dataset and data loader\u001B[39;00m\n\u001B[1;32m     18\u001B[0m dataset \u001B[38;5;241m=\u001B[39m CustomDataset(root\u001B[38;5;241m=\u001B[39mdata_path, transform\u001B[38;5;241m=\u001B[39mtransform)\n",
      "Cell \u001B[0;32mIn[18], line 7\u001B[0m, in \u001B[0;36m<lambda>\u001B[0;34m(x)\u001B[0m\n\u001B[1;32m      4\u001B[0m device \u001B[38;5;241m=\u001B[39m \u001B[38;5;124m'\u001B[39m\u001B[38;5;124mmps\u001B[39m\u001B[38;5;124m'\u001B[39m\n\u001B[1;32m      6\u001B[0m threshold \u001B[38;5;241m=\u001B[39m \u001B[38;5;241m0.5\u001B[39m  \u001B[38;5;66;03m# You can adjust this threshold as needed\u001B[39;00m\n\u001B[0;32m----> 7\u001B[0m to_binary \u001B[38;5;241m=\u001B[39m \u001B[38;5;28;01mlambda\u001B[39;00m x: \u001B[38;5;241m1\u001B[39m \u001B[38;5;28;01mif\u001B[39;00m x \u001B[38;5;241m>\u001B[39m threshold \u001B[38;5;28;01melse\u001B[39;00m \u001B[38;5;241m0\u001B[39m\n\u001B[1;32m      9\u001B[0m \u001B[38;5;66;03m# Define data transformations\u001B[39;00m\n\u001B[1;32m     10\u001B[0m transform \u001B[38;5;241m=\u001B[39m transforms\u001B[38;5;241m.\u001B[39mCompose([\n\u001B[1;32m     11\u001B[0m     transforms\u001B[38;5;241m.\u001B[39mResize((img_w, img_h)),  \u001B[38;5;66;03m# Adjust the size based on your input image size\u001B[39;00m\n\u001B[1;32m     12\u001B[0m     transforms\u001B[38;5;241m.\u001B[39mGrayscale(),\n\u001B[1;32m     13\u001B[0m     transforms\u001B[38;5;241m.\u001B[39mToTensor(),\n\u001B[1;32m     14\u001B[0m     transforms\u001B[38;5;241m.\u001B[39mLambda(\u001B[38;5;28;01mlambda\u001B[39;00m x: x\u001B[38;5;241m.\u001B[39mapply_(to_binary))\n\u001B[1;32m     15\u001B[0m ])\n",
      "\u001B[0;31mKeyboardInterrupt\u001B[0m: "
     ]
    }
   ],
   "source": [
    "# Set the path to your dataset\n",
    "data_path = \"data/images_synthetic/licenseplates\"\n",
    "\n",
    "device = 'mps'\n",
    "\n",
    "threshold = 0.5  # You can adjust this threshold as needed\n",
    "to_binary = lambda x: 1 if x > threshold else 0\n",
    "\n",
    "# Define data transformations\n",
    "transform = transforms.Compose([\n",
    "    transforms.Resize((img_w, img_h)),  # Adjust the size based on your input image size\n",
    "    transforms.Grayscale(),\n",
    "    transforms.ToTensor(),\n",
    "    transforms.Lambda(lambda x: x.apply_(to_binary))\n",
    "])\n",
    "\n",
    "# Create a dataset and data loader\n",
    "dataset = CustomDataset(root=data_path, transform=transform)\n",
    "train_size = int(0.8 * len(dataset))\n",
    "test_size = len(dataset) - train_size\n",
    "train_dataset, test_dataset = torch.utils.data.random_split(dataset, [train_size, test_size])\n",
    "\n",
    "train_loader = DataLoader(train_dataset, batch_size=256, shuffle=True)\n",
    "test_loader = DataLoader(test_dataset, batch_size=256, shuffle=False)\n",
    "\n",
    "# Initialize the model, loss function, and optimizer\n",
    "model = LicensePlateCNN().to(device)\n",
    "criterion = nn.CrossEntropyLoss()\n",
    "optimizer = optim.Adam(model.parameters(), lr=0.001)\n",
    "\n",
    "# Train the model\n",
    "train_model(model, train_loader, test_loader, criterion, optimizer, num_epochs=50, device=device, test_interval=10)\n"
   ],
   "metadata": {
    "collapsed": false,
    "ExecuteTime": {
     "end_time": "2023-11-24T16:51:51.275146Z",
     "start_time": "2023-11-24T16:51:35.708020Z"
    }
   },
   "id": "370aecf6af1acd78"
  },
  {
   "cell_type": "code",
   "execution_count": 17,
   "outputs": [
    {
     "data": {
      "text/plain": "<Figure size 640x480 with 1 Axes>",
      "image/png": "[encoded data removed]"
     },
     "metadata": {},
     "output_type": "display_data"
    }
   ],
   "source": [
    "import matplotlib.pyplot as plt\n",
    "\n",
    "# Plot the losses\n",
    "plt.plot(losses, label='Loss')\n",
    "plt.xlabel('Epoch')\n",
    "plt.ylabel('Loss')\n",
    "plt.title('Training Loss Over Epochs')\n",
    "plt.legend()\n",
    "plt.show()"
   ],
   "metadata": {
    "collapsed": false,
    "ExecuteTime": {
     "end_time": "2023-11-24T16:50:38.903744Z",
     "start_time": "2023-11-24T16:50:38.821322Z"
    }
   },
   "id": "f26d5c999ac86d3c"
  },
  {
   "cell_type": "code",
   "execution_count": 7,
   "outputs": [
    {
     "name": "stdout",
     "output_type": "stream",
     "text": [
      "Test Accuracy: 0.00%\n"
     ]
    }
   ],
   "source": [
    "test_model(model, test_loader)"
   ],
   "metadata": {
    "collapsed": false,
    "ExecuteTime": {
     "end_time": "2023-11-24T16:43:43.842482Z",
     "start_time": "2023-11-24T16:43:42.579414Z"
    }
   },
   "id": "2f7c08a28f3df801"
  }
 ],
 "metadata": {
  "kernelspec": {
   "display_name": "Python 3",
   "language": "python",
   "name": "python3"
  },
  "language_info": {
   "codemirror_mode": {
    "name": "ipython",
    "version": 2
   },
   "file_extension": ".py",
   "mimetype": "text/x-python",
   "name": "python",
   "nbconvert_exporter": "python",
   "pygments_lexer": "ipython2",
   "version": "2.7.6"
  }
 },
 "nbformat": 4,
 "nbformat_minor": 5
}
