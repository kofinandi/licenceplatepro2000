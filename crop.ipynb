{
 "cells": [
  {
   "cell_type": "code",
   "execution_count": null,
   "metadata": {},
   "outputs": [],
   "source": [
    "from PIL import Image\n",
    "import os\n",
    "\n",
    "def crop_image(image_path):\n",
    "    # Open the image\n",
    "    img = Image.open(image_path)\n",
    "\n",
    "    # Get the dimensions of the image\n",
    "    width, height = img.size\n",
    "\n",
    "    # Get the pixels of the image\n",
    "    pixels = img.load()\n",
    "\n",
    "    # Find the top edge\n",
    "    top_edge = 0\n",
    "    for y in range(height):\n",
    "        for x in range(width):\n",
    "            if pixels[x, y] != (255, 255, 255):  # Check for non-white pixels\n",
    "                top_edge = y\n",
    "                break\n",
    "        if top_edge != 0:\n",
    "            break\n",
    "\n",
    "    # Find the bottom edge\n",
    "    bottom_edge = 0\n",
    "    for y in range(height - 1, 0, -1):\n",
    "        for x in range(width):\n",
    "            if pixels[x, y] != (255, 255, 255):  # Check for non-white pixels\n",
    "                bottom_edge = y\n",
    "                break\n",
    "        if bottom_edge != 0:\n",
    "            break\n",
    "\n",
    "    # Find the left edge\n",
    "    left_edge = 0\n",
    "    for x in range(width):\n",
    "        for y in range(height):\n",
    "            if pixels[x, y] != (255, 255, 255):  # Check for non-white pixels\n",
    "                left_edge = x\n",
    "                break\n",
    "        if left_edge != 0:\n",
    "            break\n",
    "\n",
    "    # Find the right edge\n",
    "    right_edge = 0\n",
    "    for x in range(width - 1, 0, -1):\n",
    "        for y in range(height):\n",
    "            if pixels[x, y] != (255, 255, 255):  # Check for non-white pixels\n",
    "                right_edge = x\n",
    "                break\n",
    "        if right_edge != 0:\n",
    "            break\n",
    "\n",
    "    # Crop the image using the calculated edges\n",
    "    cropped_img = img.crop((left_edge, top_edge, right_edge + 1, bottom_edge + 1))\n",
    "    \n",
    "    return cropped_img\n",
    "\n",
    "# Replace 'image_path' with the path to your image file\n",
    "image_path = 'font_img_regi/0.png'\n",
    "crop_image(image_path)"
   ]
  },
  {
   "cell_type": "code",
   "execution_count": null,
   "metadata": {},
   "outputs": [],
   "source": [
    "# loop through all the templates and crop the characters\n",
    "for img_file in os.listdir('font_img_regi'):\n",
    "    img = crop_image('font_img_regi/' + img_file)\n",
    "    img.save('font_img_regi/' + img_file)"
   ]
  }
 ],
 "metadata": {
  "kernelspec": {
   "display_name": "licenceplate",
   "language": "python",
   "name": "python3"
  },
  "language_info": {
   "codemirror_mode": {
    "name": "ipython",
    "version": 3
   },
   "file_extension": ".py",
   "mimetype": "text/x-python",
   "name": "python",
   "nbconvert_exporter": "python",
   "pygments_lexer": "ipython3",
   "version": "3.8.18"
  }
 },
 "nbformat": 4,
 "nbformat_minor": 2
}
