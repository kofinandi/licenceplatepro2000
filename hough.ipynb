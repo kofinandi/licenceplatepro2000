{
 "cells": [
  {
   "cell_type": "code",
   "execution_count": 896,
   "metadata": {},
   "outputs": [],
   "source": [
    "import cv2\n",
    "import numpy as np"
   ]
  },
  {
   "cell_type": "code",
   "execution_count": 897,
   "metadata": {},
   "outputs": [],
   "source": [
    "image = cv2.imread('cropped8.jpg')"
   ]
  },
  {
   "cell_type": "code",
   "execution_count": 898,
   "metadata": {},
   "outputs": [],
   "source": [
    "gray = cv2.cvtColor(image, cv2.COLOR_BGR2GRAY)"
   ]
  },
  {
   "cell_type": "code",
   "execution_count": 899,
   "metadata": {},
   "outputs": [],
   "source": [
    "edges = cv2.Canny(gray, 10, 40, apertureSize=3)"
   ]
  },
  {
   "cell_type": "code",
   "execution_count": 900,
   "metadata": {},
   "outputs": [],
   "source": [
    "lines = cv2.HoughLines(edges, 1, np.pi / 360, 80)"
   ]
  },
  {
   "cell_type": "code",
   "execution_count": 901,
   "metadata": {},
   "outputs": [
    {
     "data": {
      "text/plain": [
       "(178, 335, 3)"
      ]
     },
     "execution_count": 901,
     "metadata": {},
     "output_type": "execute_result"
    }
   ],
   "source": [
    "image.shape"
   ]
  },
  {
   "cell_type": "code",
   "execution_count": 902,
   "metadata": {},
   "outputs": [],
   "source": [
    "# filter those lines that are close to the edges of the image\n",
    "filtered_lines = []\n",
    "for line in lines:\n",
    "    for rho, theta in line:\n",
    "        if rho < image.shape[0] * 0.2 or rho > image.shape[0] * 0.8:\n",
    "            continue\n",
    "        filtered_lines.append(line)"
   ]
  },
  {
   "cell_type": "code",
   "execution_count": 903,
   "metadata": {},
   "outputs": [
    {
     "name": "stdout",
     "output_type": "stream",
     "text": [
      "[3.        1.5707964]\n",
      "[17.         1.7715092]\n",
      "[7.        1.7715092]\n",
      "[9.        1.7627826]\n",
      "[331.   0.]\n",
      "[83.         1.8064158]\n",
      "[6.        1.7802358]\n",
      "[84.         1.7976891]\n",
      "[12.         1.7715092]\n",
      "[15.         1.7802358]\n",
      "[4. 0.]\n",
      "[11.         1.7802358]\n",
      "[19.         1.7627826]\n",
      "[94.         1.8151424]\n",
      "[87.         1.7889625]\n",
      "[5.        1.5620697]\n",
      "[1.       1.579523]\n",
      "[95.         1.8064158]\n",
      "[11.         1.7540559]\n",
      "[88.         1.7976891]\n",
      "[81.         1.8238691]\n",
      "[12.         1.7889625]\n",
      "[14.         1.7715092]\n",
      "[-3.        3.132866]\n",
      "[5.         0.00872665]\n",
      "[9.        1.7976891]\n",
      "[97.         1.7976891]\n",
      "[13.         1.7802358]\n",
      "[17.         1.7540559]\n",
      "[4.        1.8151424]\n",
      "[5.        1.7976891]\n",
      "[89.         1.7802358]\n",
      "[93.         1.7802358]\n",
      "[14.         1.7889625]\n",
      "[92.         1.8238691]\n",
      "[98.         1.7540559]\n",
      "[86.         1.8238691]\n",
      "[13.         1.7453293]\n",
      "[3.        1.7366025]\n",
      "[19.         1.7453293]\n",
      "[87.         1.8064158]\n",
      "[3.320000e+02 8.726646e-03]\n",
      "[95.         1.7715092]\n",
      "[79.         1.8325957]\n",
      "[-330.          3.132866]\n",
      "[19.        1.727876]\n",
      "[16.         1.7366025]\n",
      "[1.        1.7453293]\n",
      "[96.         1.7627826]\n",
      "[92.         1.7889625]\n",
      "[21.         1.7191494]\n",
      "[90.         1.8325957]\n",
      "[-2.         3.1241393]\n",
      "[100.          1.7453293]\n",
      "[7.        1.8064158]\n",
      "[80.         1.8413223]\n",
      "[22.         1.7366025]\n",
      "[-9.         1.7976891]\n",
      "[-1.         1.7540559]\n",
      "[-3.         1.7627826]\n",
      "[-10.          1.8064158]\n",
      "[3.        1.8238691]\n",
      "[98.         1.7889625]\n",
      "[22.         1.7104226]\n",
      "[17.         1.7191494]\n",
      "[101.          1.7366025]\n",
      "[79.        1.850049]\n",
      "[82.        1.850049]\n",
      "[99.         1.7627826]\n",
      "[78.         1.8587756]\n",
      "[19.         1.6842427]\n",
      "[24.         1.7104226]\n",
      "[92.         1.7715092]\n",
      "[77.         1.8413223]\n",
      "[76.         1.8675023]\n",
      "[77.         1.8762289]\n",
      "[33.         1.6755161]\n",
      "[19.         1.7104226]\n",
      "[-5.         1.7715092]\n",
      "[100.          1.7802358]\n",
      "[313.   0.]\n",
      "[3.140000e+02 8.726646e-03]\n",
      "[28.        1.701696]\n",
      "[3.       1.850049]\n",
      "[-312.          3.132866]\n"
     ]
    }
   ],
   "source": [
    "for line in lines:\n",
    "    print(line[0])"
   ]
  },
  {
   "cell_type": "code",
   "execution_count": 904,
   "metadata": {},
   "outputs": [],
   "source": [
    "lines = lines.squeeze()\n",
    "lines = lines.tolist()"
   ]
  },
  {
   "cell_type": "code",
   "execution_count": 905,
   "metadata": {},
   "outputs": [],
   "source": [
    "# order the lines by their angle\n",
    "lines.sort(key=lambda x: x[1])\n",
    "lines = lines[int(len(lines) / 2):]\n",
    "lines.sort(key=lambda x: x[0])"
   ]
  },
  {
   "cell_type": "code",
   "execution_count": 906,
   "metadata": {},
   "outputs": [
    {
     "data": {
      "text/plain": [
       "[[19.0, 1.7453292608261108], [17.0, 1.7540558576583862]]"
      ]
     },
     "execution_count": 906,
     "metadata": {},
     "output_type": "execute_result"
    }
   ],
   "source": [
    "lines_filtered = []\n",
    "lines_filtered.append(lines[int(len(lines) * 0.55)])\n",
    "lines_filtered.append(lines[int(len(lines) * 0.45)])\n",
    "lines_filtered"
   ]
  },
  {
   "cell_type": "code",
   "execution_count": 907,
   "metadata": {},
   "outputs": [],
   "source": [
    "for line in lines_filtered:\n",
    "    rho, theta = line[0], line[1]\n",
    "    a = np.cos(theta)\n",
    "    b = np.sin(theta)\n",
    "    x0 = a * rho\n",
    "    y0 = b * rho\n",
    "    x1 = int(x0 + 1000 * (-b))\n",
    "    y1 = int(y0 + 1000 * (a))\n",
    "    x2 = int(x0 - 1000 * (-b))\n",
    "    y2 = int(y0 - 1000 * (a))\n",
    "    cv2.line(image, (x1, y1), (x2, y2), (0, 0, 255), 2)"
   ]
  },
  {
   "cell_type": "code",
   "execution_count": 908,
   "metadata": {},
   "outputs": [],
   "source": [
    "cv2.imshow('Hough Line Transform', image)\n",
    "cv2.waitKey(0)\n",
    "cv2.destroyAllWindows()"
   ]
  }
 ],
 "metadata": {
  "kernelspec": {
   "display_name": "licenceplate",
   "language": "python",
   "name": "python3"
  },
  "language_info": {
   "codemirror_mode": {
    "name": "ipython",
    "version": 3
   },
   "file_extension": ".py",
   "mimetype": "text/x-python",
   "name": "python",
   "nbconvert_exporter": "python",
   "pygments_lexer": "ipython3",
   "version": "3.8.18"
  }
 },
 "nbformat": 4,
 "nbformat_minor": 2
}
