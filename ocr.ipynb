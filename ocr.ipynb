{
 "cells": [
  {
   "cell_type": "code",
   "execution_count": 15,
   "metadata": {},
   "outputs": [],
   "source": [
    "import cv2\n",
    "import pytesseract\n",
    "import os\n",
    "import numpy as np\n",
    "\n",
    "pytesseract.pytesseract.tesseract_cmd = r'C:\\Program Files\\Tesseract-OCR\\tesseract.exe'  # Adjust the path as per your Tesseract installation"
   ]
  },
  {
   "cell_type": "code",
   "execution_count": 50,
   "metadata": {},
   "outputs": [],
   "source": [
    "image_folder = 'cropped'\n",
    "\n",
    "folder = os.listdir(image_folder)\n",
    "#get all jpg paths from the folder\n",
    "images = []\n",
    "for file in folder:\n",
    "    if file.endswith(\".jpg\"):\n",
    "        images.append(file)\n",
    "\n",
    "\n"
   ]
  },
  {
   "cell_type": "code",
   "execution_count": 51,
   "metadata": {},
   "outputs": [
    {
     "name": "stdout",
     "output_type": "stream",
     "text": [
      "181.0\n",
      "122.0\n",
      "35.0\n",
      "98.0\n",
      "170.0\n",
      "86.0\n",
      "79.0\n",
      "122.0\n",
      "122.0\n",
      "119.0\n",
      "50.0\n",
      "103.0\n",
      "176.0\n",
      "152.0\n",
      "151.0\n",
      "151.0\n",
      "148.0\n",
      "63.0\n",
      "113.0\n",
      "191.0\n",
      "98.0\n",
      "159.0\n"
     ]
    },
    {
     "ename": "KeyboardInterrupt",
     "evalue": "",
     "output_type": "error",
     "traceback": [
      "\u001b[1;31m---------------------------------------------------------------------------\u001b[0m",
      "\u001b[1;31mKeyboardInterrupt\u001b[0m                         Traceback (most recent call last)",
      "\u001b[1;32mc:\\Users\\dkiovics\\Documents\\7_felev\\kepfeldolgozas\\hf\\licenceplatepro2000\\ocr.ipynb Cell 3\u001b[0m line \u001b[0;36m1\n\u001b[0;32m     <a href='vscode-notebook-cell:/c%3A/Users/dkiovics/Documents/7_felev/kepfeldolgozas/hf/licenceplatepro2000/ocr.ipynb#W2sZmlsZQ%3D%3D?line=14'>15</a>\u001b[0m _, binary_image \u001b[39m=\u001b[39m cv2\u001b[39m.\u001b[39mthreshold(gray, percentile_25, \u001b[39m255\u001b[39m, cv2\u001b[39m.\u001b[39mTHRESH_BINARY)\n\u001b[0;32m     <a href='vscode-notebook-cell:/c%3A/Users/dkiovics/Documents/7_felev/kepfeldolgozas/hf/licenceplatepro2000/ocr.ipynb#W2sZmlsZQ%3D%3D?line=16'>17</a>\u001b[0m cv2\u001b[39m.\u001b[39mimshow(\u001b[39m\"\u001b[39m\u001b[39mbinary\u001b[39m\u001b[39m\"\u001b[39m, binary_image)\n\u001b[1;32m---> <a href='vscode-notebook-cell:/c%3A/Users/dkiovics/Documents/7_felev/kepfeldolgozas/hf/licenceplatepro2000/ocr.ipynb#W2sZmlsZQ%3D%3D?line=17'>18</a>\u001b[0m cv2\u001b[39m.\u001b[39;49mwaitKey(\u001b[39m0\u001b[39;49m)\n\u001b[0;32m     <a href='vscode-notebook-cell:/c%3A/Users/dkiovics/Documents/7_felev/kepfeldolgozas/hf/licenceplatepro2000/ocr.ipynb#W2sZmlsZQ%3D%3D?line=18'>19</a>\u001b[0m cv2\u001b[39m.\u001b[39mdestroyAllWindows()\n",
      "\u001b[1;31mKeyboardInterrupt\u001b[0m: "
     ]
    }
   ],
   "source": [
    "for image_file in range(0, len(images)):\n",
    "    #read the image_file into an image object\n",
    "    image = cv2.imread(image_folder + '/' + images[image_file])\n",
    "    print(image_folder + '/' + images[image_file])\n",
    "\n",
    "    # Convert to grayscale\n",
    "    gray = cv2.cvtColor(image, cv2.COLOR_BGR2GRAY)\n",
    "\n",
    "    average_brightness = cv2.mean(image)[0]\n",
    "\n",
    "    pixel_values = image.flatten()\n",
    "    percentile_25 = np.percentile(pixel_values, 60)\n",
    "\n",
    "    print(percentile_25)\n",
    "\n",
    "    _, binary_image = cv2.threshold(gray, percentile_25, 255, cv2.THRESH_BINARY)\n",
    "\n",
    "    cv2.imshow(\"binary\", binary_image)\n",
    "    cv2.waitKey(0)\n",
    "    cv2.destroyAllWindows()"
   ]
  },
  {
   "cell_type": "code",
   "execution_count": 45,
   "metadata": {},
   "outputs": [
    {
     "name": "stdout",
     "output_type": "stream",
     "text": [
      "OCR Output: | soe!\n",
      "af.\n",
      "\n"
     ]
    }
   ],
   "source": [
    "# Specify the OCR engine mode\n",
    "custom_config = r'--oem 3 --psm 6'\n",
    "\n",
    "# Perform OCR on the preprocessed image\n",
    "text = pytesseract.image_to_string(binary_image, config=custom_config)\n",
    "print(\"OCR Output:\", text)"
   ]
  },
  {
   "cell_type": "code",
   "execution_count": 12,
   "metadata": {},
   "outputs": [],
   "source": [
    "# Get bounding boxes of each character\n",
    "boxes = pytesseract.image_to_boxes(binary_image, config=custom_config)\n",
    "\n",
    "# Draw bounding boxes on the original image\n",
    "for b in boxes.splitlines():\n",
    "    b = b.split()\n",
    "    x, y, w, h = int(b[1]), int(b[2]), int(b[3]), int(b[4])\n",
    "    cv2.rectangle(image, (x, y), (w, h), (0, 255, 0), 2)\n",
    "\n",
    "# Display the result\n",
    "cv2.imshow('OCR Result', image)\n",
    "cv2.waitKey(0)\n",
    "cv2.destroyAllWindows()"
   ]
  }
 ],
 "metadata": {
  "kernelspec": {
   "display_name": "Python 3",
   "language": "python",
   "name": "python3"
  },
  "language_info": {
   "codemirror_mode": {
    "name": "ipython",
    "version": 3
   },
   "file_extension": ".py",
   "mimetype": "text/x-python",
   "name": "python",
   "nbconvert_exporter": "python",
   "pygments_lexer": "ipython3",
   "version": "3.11.3"
  }
 },
 "nbformat": 4,
 "nbformat_minor": 2
}
