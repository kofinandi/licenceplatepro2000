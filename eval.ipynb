{
 "cells": [
  {
   "cell_type": "code",
   "execution_count": 26,
   "id": "initial_id",
   "metadata": {
    "collapsed": true,
    "ExecuteTime": {
     "end_time": "2023-11-28T18:31:14.628411Z",
     "start_time": "2023-11-28T18:31:14.620886Z"
    }
   },
   "outputs": [],
   "source": [
    "import numpy as np\n",
    "\n",
    "detections = np.load(\"./data/detections.npy\", allow_pickle=True).item()"
   ]
  },
  {
   "cell_type": "code",
   "execution_count": 27,
   "outputs": [
    {
     "name": "stdout",
     "output_type": "stream",
     "text": [
      "Total: 106, Correct: 26, Percentage: 24.528301886792452 %\n"
     ]
    }
   ],
   "source": [
    "success = 0\n",
    "total = len(detections.keys())\n",
    "\n",
    "for key in detections.keys():\n",
    "    if key.split(\".\")[0] in detections[key]:\n",
    "        success += 1\n",
    "print(f'Total: {total}, Correct: {success}, Percentage: {success / total * 100} %')"
   ],
   "metadata": {
    "collapsed": false,
    "ExecuteTime": {
     "end_time": "2023-11-28T18:31:15.899354Z",
     "start_time": "2023-11-28T18:31:15.856722Z"
    }
   },
   "id": "2ee1d30ecef60c0c"
  }
 ],
 "metadata": {
  "kernelspec": {
   "display_name": "Python 3",
   "language": "python",
   "name": "python3"
  },
  "language_info": {
   "codemirror_mode": {
    "name": "ipython",
    "version": 2
   },
   "file_extension": ".py",
   "mimetype": "text/x-python",
   "name": "python",
   "nbconvert_exporter": "python",
   "pygments_lexer": "ipython2",
   "version": "2.7.6"
  }
 },
 "nbformat": 4,
 "nbformat_minor": 5
}
