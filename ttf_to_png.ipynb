{
 "cells": [
  {
   "cell_type": "code",
   "execution_count": null,
   "id": "initial_id",
   "metadata": {
    "collapsed": true
   },
   "outputs": [],
   "source": [
    "%pip install Pillow ttfquery"
   ]
  },
  {
   "cell_type": "code",
   "execution_count": 23,
   "outputs": [],
   "source": [
    "from PIL import Image, ImageDraw, ImageFont\n",
    "import string\n",
    "import os\n",
    "\n",
    "def generate_images(font_path, output_folder):\n",
    "    # Create output folder if it doesn't exist\n",
    "    if not os.path.exists(output_folder):\n",
    "        os.makedirs(output_folder)\n",
    "\n",
    "    # Define characters to generate (letters and numbers)\n",
    "    characters = string.ascii_letters + string.digits\n",
    "\n",
    "    # Load the TrueType font\n",
    "    font_size = 100\n",
    "    font = ImageFont.truetype(font_path, font_size)\n",
    "\n",
    "    # Iterate through each character and generate image\n",
    "    for char in characters:\n",
    "        # Create a new image with a white background\n",
    "        image = Image.new(\"RGB\", (40, 75), \"white\")\n",
    "        draw = ImageDraw.Draw(image)\n",
    "\n",
    "        # Get the bounding box for the character\n",
    "        x0, y0, x1, y1 = draw.textbbox((0, 0), char, font=font)\n",
    "        \n",
    "\n",
    "        # Calculate the position to center the text\n",
    "        x = font_size / 2\n",
    "        y = font_size / 2\n",
    "\n",
    "        # Draw the character in black\n",
    "        draw.text((0, 0), char, font=font, fill=\"black\")\n",
    "\n",
    "        # Save the image\n",
    "        image.save(os.path.join(output_folder, f\"{char}.png\"))\n",
    "\n",
    "font_path = 'HuLi-Regular.ttf'\n",
    "output_folder = 'data/font_huli'\n",
    "generate_images(font_path, output_folder)"
   ],
   "metadata": {
    "collapsed": false,
    "ExecuteTime": {
     "end_time": "2023-11-24T15:33:59.702577Z",
     "start_time": "2023-11-24T15:33:59.669936Z"
    }
   },
   "id": "d768ccf3ea17a7fc"
  }
 ],
 "metadata": {
  "kernelspec": {
   "display_name": "Python 3",
   "language": "python",
   "name": "python3"
  },
  "language_info": {
   "codemirror_mode": {
    "name": "ipython",
    "version": 2
   },
   "file_extension": ".py",
   "mimetype": "text/x-python",
   "name": "python",
   "nbconvert_exporter": "python",
   "pygments_lexer": "ipython2",
   "version": "2.7.6"
  }
 },
 "nbformat": 4,
 "nbformat_minor": 5
}
