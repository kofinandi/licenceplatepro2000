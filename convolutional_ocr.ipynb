{
 "cells": [
  {
   "cell_type": "code",
   "execution_count": null,
   "metadata": {},
   "outputs": [],
   "source": [
    "import cv2\n",
    "import numpy as np\n",
    "\n",
    "# Load the license plate image and template images of characters\n",
    "plate_img = cv2.imread('ocr.jpg')\n",
    "template_A = cv2.imread('template_A.png', 0)  # Grayscale template image of character 'A'\n",
    "\n",
    "# Convert images to grayscale\n",
    "plate_gray = cv2.cvtColor(plate_img, cv2.COLOR_BGR2GRAY)\n",
    "\n",
    "# resize the image to have size ratio of 235:50, while keeping the original height\n",
    "height, width = plate_gray.shape\n",
    "plate_gray = cv2.resize(plate_gray, (int(width * 80 / height), 40))\n",
    "\n",
    "# resize the template image to match the heigth of the license plate image\n",
    "height, width = plate_gray.shape\n",
    "height_template, width_template = template_A.shape\n",
    "\n",
    "character_ratio = 0.9\n",
    "\n",
    "template_A = cv2.resize(template_A, (int(width_template * height / height_template * character_ratio), int(height * character_ratio)))\n",
    "\n",
    "# show both images\n",
    "cv2.imshow('plate', plate_gray)\n",
    "cv2.imshow('template', template_A)\n",
    "cv2.waitKey(0)"
   ]
  },
  {
   "cell_type": "code",
   "execution_count": null,
   "metadata": {},
   "outputs": [],
   "source": [
    "# Perform Non-Maximum Suppression\n",
    "def apply_nms(boxes, threshold=0.5):\n",
    "    if len(boxes) == 0:\n",
    "        return []\n",
    "    boxes = sorted(boxes, key=lambda x: x[2], reverse=True)\n",
    "    picked_boxes = [boxes[0]]\n",
    "    for box in boxes[1:]:\n",
    "        add = True\n",
    "        for picked_box in picked_boxes:\n",
    "            x1 = max(box[0], picked_box[0])\n",
    "            y1 = max(box[1], picked_box[1])\n",
    "            x2 = min(box[0] + template_A.shape[1], picked_box[0] + template_A.shape[1])\n",
    "            y2 = min(box[1] + template_A.shape[0], picked_box[1] + template_A.shape[0])\n",
    "            intersection_area = max(0, x2 - x1) * max(0, y2 - y1)\n",
    "            box_area = (template_A.shape[1]) * (template_A.shape[0])\n",
    "            overlap_ratio = intersection_area / float(box_area)\n",
    "            if overlap_ratio > threshold:\n",
    "                add = False\n",
    "                break\n",
    "        if add:\n",
    "            picked_boxes.append(box)\n",
    "    return picked_boxes"
   ]
  },
  {
   "cell_type": "code",
   "execution_count": null,
   "metadata": {},
   "outputs": [],
   "source": [
    "# Perform convolution for character 'A' as an example\n",
    "match_A = cv2.matchTemplate(plate_gray, template_A, cv2.TM_CCOEFF_NORMED)\n",
    "\n",
    "# Set a threshold to identify matches\n",
    "threshold = 0.8\n",
    "locations = np.where(match_A >= threshold)\n",
    "# locations is a tuple of arrays, so we need to convert it to a n x 3 array format adding the third dimension as the value of the match\n",
    "locations = list(zip(*locations[::-1]))\n",
    "locations = [list(elem) + [match_A[elem[1], elem[0]]] for elem in locations]\n",
    "locations"
   ]
  },
  {
   "cell_type": "code",
   "execution_count": null,
   "metadata": {},
   "outputs": [],
   "source": [
    "# Apply NMS\n",
    "picked_boxes = apply_nms(locations)\n",
    "\n",
    "# Draw bounding boxes around detected positions after NMS\n",
    "for loc in picked_boxes:\n",
    "    cv2.rectangle(plate_gray, (loc[0], loc[1]), (loc[0] + template_A.shape[1], loc[1] + template_A.shape[0]), (0, 255, 0), 2)\n",
    "\n",
    "# Display the result\n",
    "cv2.imshow('Detected Characters', plate_gray)\n",
    "cv2.waitKey(0)\n",
    "cv2.destroyAllWindows()"
   ]
  },
  {
   "cell_type": "code",
   "execution_count": null,
   "metadata": {},
   "outputs": [],
   "source": [
    "picked_boxes"
   ]
  },
  {
   "cell_type": "code",
   "execution_count": null,
   "metadata": {},
   "outputs": [],
   "source": []
  }
 ],
 "metadata": {
  "kernelspec": {
   "display_name": "licenceplate",
   "language": "python",
   "name": "python3"
  },
  "language_info": {
   "codemirror_mode": {
    "name": "ipython",
    "version": 3
   },
   "file_extension": ".py",
   "mimetype": "text/x-python",
   "name": "python",
   "nbconvert_exporter": "python",
   "pygments_lexer": "ipython3",
   "version": "3.8.18"
  }
 },
 "nbformat": 4,
 "nbformat_minor": 2
}
