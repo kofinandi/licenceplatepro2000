{
 "cells": [
  {
   "cell_type": "code",
   "execution_count": 53,
   "metadata": {},
   "outputs": [],
   "source": [
    "import cv2\n",
    "import numpy as np\n",
    "import os\n",
    "import string"
   ]
  },
  {
   "cell_type": "code",
   "execution_count": 54,
   "metadata": {},
   "outputs": [],
   "source": [
    "# create a list of all the template images\n",
    "template_imgs = {}\n",
    "for img_file in os.listdir('font_img'):\n",
    "    template_imgs[img_file[0]] = cv2.imread('font_img/' + img_file, 0)"
   ]
  },
  {
   "cell_type": "code",
   "execution_count": 55,
   "metadata": {},
   "outputs": [],
   "source": [
    "def apply_nms(boxes, threshold=0.5):\n",
    "    # Sort boxes by their confidence score in descending order\n",
    "    boxes.sort(key=lambda x: x[0], reverse=True)\n",
    "\n",
    "    selected_boxes = []\n",
    "\n",
    "    while len(boxes) > 0:\n",
    "        # Select the box with the highest confidence (the first box after sorting)\n",
    "        selected_box = boxes[0]\n",
    "        selected_boxes.append(selected_box)\n",
    "\n",
    "        # Calculate the area of the selected box\n",
    "        selected_x1 = selected_box[1]\n",
    "        selected_y1 = selected_box[2]\n",
    "        selected_x2 = selected_x1 + selected_box[4]\n",
    "        selected_y2 = selected_y1 + selected_box[3]\n",
    "        selected_area = selected_box[3] * selected_box[4]\n",
    "\n",
    "        # Remove the selected box from the list\n",
    "        boxes = boxes[1:]\n",
    "\n",
    "        # Iterate over the remaining boxes and remove those with high overlap\n",
    "        remaining_boxes = []\n",
    "        for box in boxes:\n",
    "            x1 = max(selected_x1, box[1])\n",
    "            y1 = max(selected_y1, box[2])\n",
    "            x2 = min(selected_x2, box[1] + box[4])\n",
    "            y2 = min(selected_y2, box[2] + box[3])\n",
    "\n",
    "            intersection_area = max(0, x2 - x1) * max(0, y2 - y1)\n",
    "            box_area = box[3] * box[4]\n",
    "            overlap = intersection_area / float(selected_area + box_area - intersection_area)\n",
    "\n",
    "            # If overlap is less than the threshold, keep the box\n",
    "            if overlap <= threshold:\n",
    "                remaining_boxes.append(box)\n",
    "\n",
    "        boxes = remaining_boxes\n",
    "\n",
    "    return selected_boxes"
   ]
  },
  {
   "cell_type": "code",
   "execution_count": 56,
   "metadata": {},
   "outputs": [
    {
     "data": {
      "text/plain": [
       "-1"
      ]
     },
     "execution_count": 56,
     "metadata": {},
     "output_type": "execute_result"
    }
   ],
   "source": [
    "plate_img = cv2.imread('ocr2.jpg')\n",
    "\n",
    "# Convert images to grayscale\n",
    "plate_gray = cv2.cvtColor(plate_img, cv2.COLOR_BGR2GRAY)\n",
    "\n",
    "# resize the image\n",
    "height, width = plate_gray.shape\n",
    "plate_gray = cv2.resize(plate_gray, (int(height / 40 * 205), height))\n",
    "\n",
    "r = 0.2\n",
    "\n",
    "# pad the plate image with extra white pixels to avoid errors\n",
    "# plate_gray = cv2.copyMakeBorder(plate_gray, int(height * r), int(height * r), int(width * r), int(width * r), cv2.BORDER_CONSTANT, value=[255, 255, 255])\n",
    "\n",
    "# show the image\n",
    "cv2.imshow('plate', plate_gray)\n",
    "cv2.waitKey(0)"
   ]
  },
  {
   "cell_type": "code",
   "execution_count": 57,
   "metadata": {},
   "outputs": [],
   "source": [
    "detections = []\n",
    "for key, template in template_imgs.items():\n",
    "    character_ratio = 0.75\n",
    "\n",
    "    template_height, template_width = template.shape\n",
    "    template = cv2.resize(template, (int(height * character_ratio * template_width / template_height), int(height * character_ratio)))\n",
    "\n",
    "    match = cv2.matchTemplate(plate_gray, template, cv2.TM_CCOEFF_NORMED)\n",
    "\n",
    "    # print(key + ': ' + str(np.max(match)))\n",
    "\n",
    "    # Set a threshold to identify matches\n",
    "    threshold = 0.66\n",
    "    locations = np.where(match >= threshold)\n",
    "    # locations is a tuple of arrays, so we need to convert it to a n x 3 array format adding the third dimension as the value of the match\n",
    "    locations = list(zip(*locations[::-1]))\n",
    "    locations = [list([match[elem[1], elem[0]]]) + list(elem) + list(template.shape) + list(key) for elem in locations]\n",
    "    detections.extend(locations)"
   ]
  },
  {
   "cell_type": "code",
   "execution_count": 58,
   "metadata": {},
   "outputs": [],
   "source": [
    "def draw_boxes(image, boxes):\n",
    "    image_with_boxes = image.copy()\n",
    "    for box in boxes:\n",
    "        confidence, x, y, height, width, _ = box\n",
    "        x1, y1 = int(x), int(y)\n",
    "        x2, y2 = int(x + width), int(y + height)\n",
    "        cv2.rectangle(image_with_boxes, (x1, y1), (x2, y2), (0, 0, 0), 2)\n",
    "    return image_with_boxes"
   ]
  },
  {
   "cell_type": "code",
   "execution_count": 59,
   "metadata": {},
   "outputs": [],
   "source": [
    "# Apply NMS\n",
    "picked_boxes = apply_nms(detections)\n",
    "\n",
    "# Draw bounding boxes around detected positions after NMS\n",
    "plate_with_boxes = draw_boxes(plate_gray, picked_boxes)\n",
    "\n",
    "# Display the result\n",
    "cv2.imshow('Detected Characters', plate_with_boxes)\n",
    "cv2.waitKey(0)\n",
    "cv2.destroyAllWindows()"
   ]
  },
  {
   "cell_type": "code",
   "execution_count": 60,
   "metadata": {},
   "outputs": [
    {
     "name": "stdout",
     "output_type": "stream",
     "text": [
      "AAAA3O2\n"
     ]
    }
   ],
   "source": [
    "picked_boxes.sort(key=lambda x: x[1])\n",
    "# print the detected text\n",
    "text = ''\n",
    "for box in picked_boxes:\n",
    "    text += box[5]\n",
    "# capitalize the text\n",
    "text = text.upper()\n",
    "print(text)"
   ]
  }
 ],
 "metadata": {
  "kernelspec": {
   "display_name": "licenceplate",
   "language": "python",
   "name": "python3"
  },
  "language_info": {
   "codemirror_mode": {
    "name": "ipython",
    "version": 3
   },
   "file_extension": ".py",
   "mimetype": "text/x-python",
   "name": "python",
   "nbconvert_exporter": "python",
   "pygments_lexer": "ipython3",
   "version": "3.8.18"
  }
 },
 "nbformat": 4,
 "nbformat_minor": 2
}
