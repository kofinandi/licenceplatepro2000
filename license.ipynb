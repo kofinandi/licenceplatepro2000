{
 "cells": [
  {
   "cell_type": "code",
   "execution_count": 3,
   "metadata": {},
   "outputs": [],
   "source": [
    "import cv2\n",
    "import numpy as np"
   ]
  },
  {
   "cell_type": "code",
   "execution_count": 4,
   "metadata": {},
   "outputs": [],
   "source": [
    "# Load the 8-bit black and white image\n",
    "image = cv2.imread('images/PLATE_1.jpg', cv2.IMREAD_GRAYSCALE)\n",
    "\n",
    "if image is None:\n",
    "    print(\"Error: Unable to load image.\")\n",
    "    exit()\n",
    "\n",
    "# Define the quantization levels (2 bits = 4 levels)\n",
    "quantization_levels = 4\n",
    "\n",
    "# Calculate the scaling factor\n",
    "scale_factor = 256 / quantization_levels\n",
    "\n",
    "# Quantize the pixel values\n",
    "quantized_image = np.floor_divide(image, scale_factor) * scale_factor\n",
    "\n",
    "# Save the resulting 2-bit image\n",
    "cv2.imwrite('output_image.png', quantized_image)\n",
    "\n",
    "# Display the original and quantized images\n",
    "cv2.imshow('Original Image', image)\n",
    "cv2.imshow('2-Bit Quantized Image', quantized_image)\n",
    "cv2.waitKey(0)\n",
    "cv2.destroyAllWindows()"
   ]
  }
 ],
 "metadata": {
  "kernelspec": {
   "display_name": "Python 3",
   "language": "python",
   "name": "python3"
  },
  "language_info": {
   "codemirror_mode": {
    "name": "ipython",
    "version": 3
   },
   "file_extension": ".py",
   "mimetype": "text/x-python",
   "name": "python",
   "nbconvert_exporter": "python",
   "pygments_lexer": "ipython3",
   "version": "3.11.3"
  }
 },
 "nbformat": 4,
 "nbformat_minor": 2
}
