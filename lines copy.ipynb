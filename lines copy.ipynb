{
 "cells": [
  {
   "cell_type": "code",
   "execution_count": 127,
   "metadata": {},
   "outputs": [],
   "source": [
    "import cv2\n",
    "import numpy as np"
   ]
  },
  {
   "cell_type": "code",
   "execution_count": 128,
   "metadata": {},
   "outputs": [],
   "source": [
    "def get_line_pixels_horizontal(image, x0, y0, x1, y1):\n",
    "    # Implement the Bresenham's line algorithm\n",
    "    points = []\n",
    "    dx = abs(x1 - x0)\n",
    "    dy = abs(y1 - y0)\n",
    "    x, y = x0, y0\n",
    "    sx = -1 if x0 > x1 else 1\n",
    "    sy = -1 if y0 > y1 else 1\n",
    "    if dx > dy:\n",
    "        err = dx / 2.0\n",
    "        while x != x1:\n",
    "            if 0 <= x < len(image[0]) and 0 <= y < len(image):\n",
    "                if 0 <= y-1 < len(image) and 0 <= y+1 < len(image):\n",
    "                    points.append((x, y))\n",
    "            err -= dy\n",
    "            if err < 0:\n",
    "                y += sy\n",
    "                err += dx\n",
    "            x += sx\n",
    "    else:\n",
    "        err = dy / 2.0\n",
    "        while y != y1:\n",
    "            if 0 <= x < len(image[0]) and 0 <= y < len(image):\n",
    "                if 0 <= y-1 < len(image) and 0 <= y+1 < len(image):\n",
    "                    points.append((x, y))\n",
    "            err -= dx\n",
    "            if err < 0:\n",
    "                x += sx\n",
    "                err += dy\n",
    "            y += sy\n",
    "    if 0 <= x < len(image[0]) and 0 <= y < len(image):\n",
    "        if 0 <= y-1 < len(image) and 0 <= y+1 < len(image):\n",
    "            points.append((x, y))\n",
    "\n",
    "    # Get the pixel values\n",
    "    pixels = [(image[y-1][x], image[y+1][x]) for x, y in points]\n",
    "\n",
    "    return pixels"
   ]
  },
  {
   "cell_type": "code",
   "execution_count": 129,
   "metadata": {},
   "outputs": [],
   "source": [
    "# Define a function to calculate color contrast between two pixels\n",
    "def color_contrast(pixel1, pixel2):\n",
    "    return pixel1 - pixel2"
   ]
  },
  {
   "cell_type": "code",
   "execution_count": 130,
   "metadata": {},
   "outputs": [],
   "source": [
    "# Load the image\n",
    "image = cv2.imread('cropped/AA AB-261-[0].jpg', 0)  # 0 loads the image in grayscale\n"
   ]
  },
  {
   "cell_type": "code",
   "execution_count": 131,
   "metadata": {},
   "outputs": [],
   "source": [
    "# Define the line parameters (angle and starting point)\n",
    "angle = -13  # Replace with your desired angle in degrees\n",
    "x0, y0 = 0, 87  # Replace with your desired starting point\n",
    "\n",
    "# Convert the angle to radians\n",
    "angle = np.radians(angle)\n",
    "\n",
    "# Calculate the end point of the line\n",
    "x1 = int(x0 + 500 * np.cos(angle))\n",
    "y1 = int(y0 + 500 * np.sin(angle))"
   ]
  },
  {
   "cell_type": "code",
   "execution_count": 132,
   "metadata": {},
   "outputs": [],
   "source": [
    "image2 = image.copy()\n",
    "\n",
    "cv2.line(image2, (x0, y0), (x1, y1), 255, 1)\n",
    "cv2.line(image2, (x0, y0-1), (x1, y1-1), 0, 1)\n",
    "cv2.line(image2, (x0, y0+1), (x1, y1+1), 0, 1)\n",
    "\n",
    "cv2.imshow('image', image2)\n",
    "cv2.waitKey(0)\n",
    "cv2.destroyAllWindows()"
   ]
  },
  {
   "cell_type": "code",
   "execution_count": 133,
   "metadata": {},
   "outputs": [],
   "source": [
    "all_horizontals = []\n",
    "for angle in range(-15, 15):\n",
    "    all_contrasts = []\n",
    "\n",
    "    # print(\"Angle: \", angle)\n",
    "    # Convert the angle to radians\n",
    "    angle = np.radians(angle)\n",
    "\n",
    "    for i in range(image.shape[0]):\n",
    "        # Define the line parameters (angle and starting point)\n",
    "        x0, y0 = 0, i  # Replace with your desired starting point\n",
    "\n",
    "        # Calculate the end point of the line\n",
    "        x1 = int(x0 + 500 * np.cos(angle))\n",
    "        y1 = int(y0 + 500 * np.sin(angle))\n",
    "\n",
    "        pixels = get_line_pixels_horizontal(image, x0, y0, x1, y1)\n",
    "        pixels = np.array(pixels, dtype=np.int16)\n",
    "\n",
    "        if len(pixels) == 0:\n",
    "            continue\n",
    "\n",
    "        total_contrast = pixels[:, 0] - pixels[:, 1]\n",
    "        all_contrasts.append(total_contrast.mean())\n",
    "\n",
    "    all_contrasts = np.array(all_contrasts)\n",
    "    # print(all_contrasts.argmin(), all_contrasts.min())\n",
    "    # print(all_contrasts.argmax(), all_contrasts.max())\n",
    "    length = all_contrasts.shape[0]\n",
    "    argmin = all_contrasts.argmin()\n",
    "    min = all_contrasts.min()\n",
    "    argmax = all_contrasts.argmax()\n",
    "    max = all_contrasts.max()\n",
    "    all_horizontals.append((argmin, min, argmax, max, max-min))"
   ]
  },
  {
   "cell_type": "code",
   "execution_count": 134,
   "metadata": {},
   "outputs": [
    {
     "name": "stdout",
     "output_type": "stream",
     "text": [
      "Angle:  4\n",
      "[  7.         -75.14642857  64.          96.85357143 172.        ]\n"
     ]
    }
   ],
   "source": [
    "all_horizontals = np.array(all_horizontals)\n",
    "best_lines = all_horizontals[all_horizontals[:, 4].argmax()]\n",
    "\n",
    "# Define the line parameters (angle and starting point)\n",
    "angle = -15 + all_horizontals[:, 4].argmax()\n",
    "x0_left, y0_left = 0, int(best_lines[0])\n",
    "x0_right, y0_right = 0, int(best_lines[2])\n",
    "\n",
    "print(\"Angle: \", angle)\n",
    "print(best_lines)\n",
    "\n",
    "# Convert the angle to radians\n",
    "angle = np.radians(angle)\n",
    "\n",
    "# Calculate the end point of the lines\n",
    "x1_top = int(x0_left + 500 * np.cos(angle))\n",
    "y1_top = int(y0_left + 500 * np.sin(angle))\n",
    "x1_bottom = int(x0_right + 500 * np.cos(angle))\n",
    "y1_bottom = int(y0_right + 500 * np.sin(angle))\n",
    "\n",
    "image2 = image.copy()\n",
    "\n",
    "cv2.line(image2, (x0_left, y0_left), (x1_top, y1_top), 255, 1)\n",
    "cv2.line(image2, (x0_left, y0_left-1), (x1_top, y1_top-1), 0, 1)\n",
    "cv2.line(image2, (x0_left, y0_left+1), (x1_top, y1_top+1), 0, 1)\n",
    "\n",
    "cv2.line(image2, (x0_right, y0_right), (x1_bottom, y1_bottom), 255, 1)\n",
    "cv2.line(image2, (x0_right, y0_right-1), (x1_bottom, y1_bottom-1), 0, 1)\n",
    "cv2.line(image2, (x0_right, y0_right+1), (x1_bottom, y1_bottom+1), 0, 1)\n",
    "\n",
    "cv2.imshow('image', image2)\n",
    "cv2.waitKey(0)\n",
    "cv2.destroyAllWindows()"
   ]
  }
 ],
 "metadata": {
  "kernelspec": {
   "display_name": "licenceplate",
   "language": "python",
   "name": "python3"
  },
  "language_info": {
   "codemirror_mode": {
    "name": "ipython",
    "version": 3
   },
   "file_extension": ".py",
   "mimetype": "text/x-python",
   "name": "python",
   "nbconvert_exporter": "python",
   "pygments_lexer": "ipython3",
   "version": "3.8.18"
  }
 },
 "nbformat": 4,
 "nbformat_minor": 2
}
