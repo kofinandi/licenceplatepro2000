{
 "cells": [
  {
   "cell_type": "code",
   "execution_count": 339,
   "metadata": {},
   "outputs": [],
   "source": [
    "import cv2\n",
    "import numpy as np"
   ]
  },
  {
   "cell_type": "code",
   "execution_count": 340,
   "metadata": {},
   "outputs": [],
   "source": [
    "def get_line_pixels_vertical(image, x0, y0, x1, y1):\n",
    "    # Implement the Bresenham's line algorithm\n",
    "    points = []\n",
    "    dx = abs(x1 - x0)\n",
    "    dy = abs(y1 - y0)\n",
    "    x, y = x0, y0\n",
    "    sx = -1 if x0 > x1 else 1\n",
    "    sy = -1 if y0 > y1 else 1\n",
    "    if dx > dy:\n",
    "        err = dx / 2.0\n",
    "        while x != x1:\n",
    "            if 0 <= x < len(image[0]) and 0 <= y < len(image):\n",
    "                if 0 <= x-1 < len(image[0]) and 0 <= x+1 < len(image[0]):\n",
    "                    points.append((x, y))\n",
    "            err -= dy\n",
    "            if err < 0:\n",
    "                y += sy\n",
    "                err += dx\n",
    "            x += sx\n",
    "    else:\n",
    "        err = dy / 2.0\n",
    "        while y != y1:\n",
    "            if 0 <= x < len(image[0]) and 0 <= y < len(image):\n",
    "                if 0 <= x-1 < len(image[0]) and 0 <= x+1 < len(image[0]):\n",
    "                    points.append((x, y))\n",
    "            err -= dx\n",
    "            if err < 0:\n",
    "                x += sx\n",
    "                err += dy\n",
    "            y += sy\n",
    "    if 0 <= x < len(image[0]) and 0 <= y < len(image):\n",
    "        if 0 <= x-1 < len(image[0]) and 0 <= x+1 < len(image[0]):\n",
    "            points.append((x, y))\n",
    "\n",
    "    # Get the pixel values\n",
    "    pixels = [(image[y][x-1], image[y][x+1]) for x, y in points]\n",
    "\n",
    "    return pixels"
   ]
  },
  {
   "cell_type": "code",
   "execution_count": 341,
   "metadata": {},
   "outputs": [],
   "source": [
    "# Define a function to calculate color contrast between two pixels\n",
    "def color_contrast(pixel1, pixel2):\n",
    "    return pixel1 - pixel2"
   ]
  },
  {
   "cell_type": "code",
   "execution_count": 342,
   "metadata": {},
   "outputs": [],
   "source": [
    "# Load the image\n",
    "image = cv2.imread('cropped/AA AT-096-[0].jpg', 0)  # 0 loads the image in grayscale\n"
   ]
  },
  {
   "cell_type": "code",
   "execution_count": 343,
   "metadata": {},
   "outputs": [],
   "source": [
    "# Define the line parameters (angle and starting point)\n",
    "angle = 98  # Replace with your desired angle in degrees\n",
    "x0, y0 = 239, 0  # Replace with your desired starting point\n",
    "\n",
    "# Convert the angle to radians\n",
    "angle = np.radians(angle)\n",
    "\n",
    "# Calculate the end point of the line\n",
    "x1 = int(x0 + 200 * np.cos(angle))\n",
    "y1 = int(y0 + 200 * np.sin(angle))"
   ]
  },
  {
   "cell_type": "code",
   "execution_count": 344,
   "metadata": {},
   "outputs": [],
   "source": [
    "image2 = image.copy()\n",
    "\n",
    "cv2.line(image2, (x0, y0), (x1, y1), 255, 1)\n",
    "cv2.line(image2, (x0+1, y0), (x1+1, y1), 0, 1)\n",
    "cv2.line(image2, (x0-1, y0), (x1-1, y1), 0, 1)\n",
    "\n",
    "cv2.imshow('image', image2)\n",
    "cv2.waitKey(0)\n",
    "cv2.destroyAllWindows()"
   ]
  },
  {
   "cell_type": "code",
   "execution_count": 345,
   "metadata": {},
   "outputs": [],
   "source": [
    "all_values = []\n",
    "for angle in range(80, 100):\n",
    "    all_contrasts = []\n",
    "\n",
    "    # print(\"Angle: \", angle)\n",
    "    # Convert the angle to radians\n",
    "    angle = np.radians(angle)\n",
    "\n",
    "    for i in range(image.shape[1]):\n",
    "        # Define the line parameters (angle and starting point)\n",
    "        x0, y0 = i, 0  # Replace with your desired starting point\n",
    "\n",
    "        # Calculate the end point of the line\n",
    "        x1 = int(x0 + 200 * np.cos(angle))\n",
    "        y1 = int(y0 + 200 * np.sin(angle))\n",
    "\n",
    "        pixels = get_line_pixels_vertical(image, x0, y0, x1, y1)\n",
    "        pixels = np.array(pixels, dtype=np.int16)\n",
    "\n",
    "        if len(pixels) == 0:\n",
    "            continue\n",
    "\n",
    "        total_contrast = pixels[:, 0] - pixels[:, 1]\n",
    "        all_contrasts.append(total_contrast.mean())\n",
    "\n",
    "    all_contrasts = np.array(all_contrasts)\n",
    "    # print(all_contrasts.argmin(), all_contrasts.min())\n",
    "    # print(all_contrasts.argmax(), all_contrasts.max())\n",
    "    length = all_contrasts.shape[0]\n",
    "    argmin = all_contrasts[:40].argmin()\n",
    "    min = all_contrasts[:40].min()\n",
    "    argmax = all_contrasts[length-40:].argmax() + length-40\n",
    "    max = all_contrasts[length-40:].max()\n",
    "    all_values.append((argmin, min, argmax, max, max-min))"
   ]
  },
  {
   "cell_type": "code",
   "execution_count": 346,
   "metadata": {},
   "outputs": [
    {
     "name": "stdout",
     "output_type": "stream",
     "text": [
      "Angle:  83\n",
      "[ 30.         -38.99107143 252.          48.24107143  87.23214286]\n"
     ]
    }
   ],
   "source": [
    "all_values = np.array(all_values)\n",
    "best_lines = all_values[all_values[:, 4].argmax()]\n",
    "\n",
    "# Define the line parameters (angle and starting point)\n",
    "angle = 80 + all_values[:, 4].argmax()\n",
    "x0_left, y0_left = int(best_lines[0]), 0\n",
    "x0_right, y0_right = int(best_lines[2]), 0\n",
    "\n",
    "print(\"Angle: \", angle)\n",
    "print(best_lines)\n",
    "\n",
    "# Convert the angle to radians\n",
    "angle = np.radians(angle)\n",
    "\n",
    "# Calculate the end point of the lines\n",
    "x1_left = int(x0_left + 200 * np.cos(angle))\n",
    "y1_left = int(y0_left + 200 * np.sin(angle))\n",
    "x1_right = int(x0_right + 200 * np.cos(angle))\n",
    "y1_right = int(y0_right + 200 * np.sin(angle))\n",
    "\n",
    "image2 = image.copy()\n",
    "\n",
    "cv2.line(image2, (x0_left, y0_left), (x1_left, y1_left), 255, 1)\n",
    "cv2.line(image2, (x0_left+1, y0_left), (x1_left+1, y1_left), 0, 1)\n",
    "cv2.line(image2, (x0_left-1, y0_left), (x1_left-1, y1_left), 0, 1)\n",
    "\n",
    "cv2.line(image2, (x0_right, y0_right), (x1_right, y1_right), 255, 1)\n",
    "cv2.line(image2, (x0_right+1, y0_right), (x1_right+1, y1_right), 0, 1)\n",
    "cv2.line(image2, (x0_right-1, y0_right), (x1_right-1, y1_right), 0, 1)\n",
    "\n",
    "cv2.imshow('image', image2)\n",
    "cv2.waitKey(0)\n",
    "cv2.destroyAllWindows()"
   ]
  },
  {
   "cell_type": "code",
   "execution_count": null,
   "metadata": {},
   "outputs": [],
   "source": []
  }
 ],
 "metadata": {
  "kernelspec": {
   "display_name": "licenceplate",
   "language": "python",
   "name": "python3"
  },
  "language_info": {
   "codemirror_mode": {
    "name": "ipython",
    "version": 3
   },
   "file_extension": ".py",
   "mimetype": "text/x-python",
   "name": "python",
   "nbconvert_exporter": "python",
   "pygments_lexer": "ipython3",
   "version": "3.8.18"
  }
 },
 "nbformat": 4,
 "nbformat_minor": 2
}
